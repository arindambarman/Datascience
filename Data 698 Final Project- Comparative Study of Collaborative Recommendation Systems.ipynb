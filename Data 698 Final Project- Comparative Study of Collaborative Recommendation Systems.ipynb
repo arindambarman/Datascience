{
 "cells": [
  {
   "cell_type": "code",
   "execution_count": 366,
   "metadata": {},
   "outputs": [],
   "source": [
    "# Load datafrom surprise import NormalPredictor\n",
    "from surprise import Dataset\n",
    "from surprise import Reader\n",
    "from surprise.model_selection import cross_validate\n",
    "import pandas as pd\n",
    "import numpy as np\n",
    "from zipfile import ZipFile\n",
    "from urllib.request import urlopen   \n",
    "import os\n",
    "import matplotlib.pyplot as plt\n",
    "%matplotlib inline"
   ]
  },
  {
   "cell_type": "code",
   "execution_count": 367,
   "metadata": {},
   "outputs": [
    {
     "data": {
      "text/html": [
       "<div>\n",
       "<style scoped>\n",
       "    .dataframe tbody tr th:only-of-type {\n",
       "        vertical-align: middle;\n",
       "    }\n",
       "\n",
       "    .dataframe tbody tr th {\n",
       "        vertical-align: top;\n",
       "    }\n",
       "\n",
       "    .dataframe thead th {\n",
       "        text-align: right;\n",
       "    }\n",
       "</style>\n",
       "<table border=\"1\" class=\"dataframe\">\n",
       "  <thead>\n",
       "    <tr style=\"text-align: right;\">\n",
       "      <th></th>\n",
       "      <th>UserID</th>\n",
       "      <th>ISBN</th>\n",
       "      <th>Rating</th>\n",
       "    </tr>\n",
       "  </thead>\n",
       "  <tbody>\n",
       "    <tr>\n",
       "      <th>0</th>\n",
       "      <td>276725</td>\n",
       "      <td>034545104X</td>\n",
       "      <td>0</td>\n",
       "    </tr>\n",
       "    <tr>\n",
       "      <th>1</th>\n",
       "      <td>276726</td>\n",
       "      <td>0155061224</td>\n",
       "      <td>5</td>\n",
       "    </tr>\n",
       "    <tr>\n",
       "      <th>2</th>\n",
       "      <td>276727</td>\n",
       "      <td>0446520802</td>\n",
       "      <td>0</td>\n",
       "    </tr>\n",
       "    <tr>\n",
       "      <th>3</th>\n",
       "      <td>276729</td>\n",
       "      <td>052165615X</td>\n",
       "      <td>3</td>\n",
       "    </tr>\n",
       "    <tr>\n",
       "      <th>4</th>\n",
       "      <td>276729</td>\n",
       "      <td>0521795028</td>\n",
       "      <td>6</td>\n",
       "    </tr>\n",
       "  </tbody>\n",
       "</table>\n",
       "</div>"
      ],
      "text/plain": [
       "   UserID        ISBN  Rating\n",
       "0  276725  034545104X       0\n",
       "1  276726  0155061224       5\n",
       "2  276727  0446520802       0\n",
       "3  276729  052165615X       3\n",
       "4  276729  0521795028       6"
      ]
     },
     "execution_count": 367,
     "metadata": {},
     "output_type": "execute_result"
    }
   ],
   "source": [
    "# Get user rating file\n",
    "url=\"https://raw.githubusercontent.com/arindambarman/Datascience/master/Ratings.txt\"\n",
    "ratings=pd.read_csv(url,sep=';',encoding=\"latin-1\")\n",
    "rating_name=['UserID','ISBN','Rating']\n",
    "ratings.columns=rating_name\n",
    "ratings.head()"
   ]
  },
  {
   "cell_type": "code",
   "execution_count": 370,
   "metadata": {},
   "outputs": [
    {
     "data": {
      "text/html": [
       "<div>\n",
       "<style scoped>\n",
       "    .dataframe tbody tr th:only-of-type {\n",
       "        vertical-align: middle;\n",
       "    }\n",
       "\n",
       "    .dataframe tbody tr th {\n",
       "        vertical-align: top;\n",
       "    }\n",
       "\n",
       "    .dataframe thead th {\n",
       "        text-align: right;\n",
       "    }\n",
       "</style>\n",
       "<table border=\"1\" class=\"dataframe\">\n",
       "  <thead>\n",
       "    <tr style=\"text-align: right;\">\n",
       "      <th></th>\n",
       "      <th>UserID</th>\n",
       "      <th>Location</th>\n",
       "      <th>Age</th>\n",
       "    </tr>\n",
       "  </thead>\n",
       "  <tbody>\n",
       "    <tr>\n",
       "      <th>0</th>\n",
       "      <td>1</td>\n",
       "      <td>nyc, new york, usa</td>\n",
       "      <td>NaN</td>\n",
       "    </tr>\n",
       "    <tr>\n",
       "      <th>1</th>\n",
       "      <td>2</td>\n",
       "      <td>stockton, california, usa</td>\n",
       "      <td>18.0</td>\n",
       "    </tr>\n",
       "    <tr>\n",
       "      <th>2</th>\n",
       "      <td>3</td>\n",
       "      <td>moscow, yukon territory, russia</td>\n",
       "      <td>NaN</td>\n",
       "    </tr>\n",
       "    <tr>\n",
       "      <th>3</th>\n",
       "      <td>4</td>\n",
       "      <td>porto, v.n.gaia, portugal</td>\n",
       "      <td>17.0</td>\n",
       "    </tr>\n",
       "    <tr>\n",
       "      <th>4</th>\n",
       "      <td>5</td>\n",
       "      <td>farnborough, hants, united kingdom</td>\n",
       "      <td>NaN</td>\n",
       "    </tr>\n",
       "  </tbody>\n",
       "</table>\n",
       "</div>"
      ],
      "text/plain": [
       "   UserID                            Location   Age\n",
       "0       1                  nyc, new york, usa   NaN\n",
       "1       2           stockton, california, usa  18.0\n",
       "2       3     moscow, yukon territory, russia   NaN\n",
       "3       4           porto, v.n.gaia, portugal  17.0\n",
       "4       5  farnborough, hants, united kingdom   NaN"
      ]
     },
     "execution_count": 370,
     "metadata": {},
     "output_type": "execute_result"
    }
   ],
   "source": [
    "# Get User data file\n",
    "url=\"https://raw.githubusercontent.com/arindambarman/Datascience/master/BX-Users.csv\"\n",
    "user=pd.read_csv(url,sep=';',encoding=\"latin-1\")\n",
    "user_name=['UserID','Location','Age']\n",
    "user.columns=user_name\n",
    "user.head()"
   ]
  },
  {
   "cell_type": "code",
   "execution_count": 372,
   "metadata": {},
   "outputs": [
    {
     "name": "stderr",
     "output_type": "stream",
     "text": [
      "b'Skipping line 6452: expected 8 fields, saw 9\\nSkipping line 43667: expected 8 fields, saw 10\\nSkipping line 51751: expected 8 fields, saw 9\\n'\n",
      "b'Skipping line 92038: expected 8 fields, saw 9\\nSkipping line 104319: expected 8 fields, saw 9\\nSkipping line 121768: expected 8 fields, saw 9\\n'\n",
      "b'Skipping line 144058: expected 8 fields, saw 9\\nSkipping line 150789: expected 8 fields, saw 9\\nSkipping line 157128: expected 8 fields, saw 9\\nSkipping line 180189: expected 8 fields, saw 9\\nSkipping line 185738: expected 8 fields, saw 9\\n'\n",
      "b'Skipping line 209388: expected 8 fields, saw 9\\nSkipping line 220626: expected 8 fields, saw 9\\nSkipping line 227933: expected 8 fields, saw 11\\nSkipping line 228957: expected 8 fields, saw 10\\nSkipping line 245933: expected 8 fields, saw 9\\nSkipping line 251296: expected 8 fields, saw 9\\nSkipping line 259941: expected 8 fields, saw 9\\nSkipping line 261529: expected 8 fields, saw 9\\n'\n",
      "C:\\Anaconda3\\lib\\site-packages\\IPython\\core\\interactiveshell.py:2728: DtypeWarning: Columns (3) have mixed types. Specify dtype option on import or set low_memory=False.\n",
      "  interactivity=interactivity, compiler=compiler, result=result)\n"
     ]
    },
    {
     "data": {
      "text/html": [
       "<div>\n",
       "<style scoped>\n",
       "    .dataframe tbody tr th:only-of-type {\n",
       "        vertical-align: middle;\n",
       "    }\n",
       "\n",
       "    .dataframe tbody tr th {\n",
       "        vertical-align: top;\n",
       "    }\n",
       "\n",
       "    .dataframe thead th {\n",
       "        text-align: right;\n",
       "    }\n",
       "</style>\n",
       "<table border=\"1\" class=\"dataframe\">\n",
       "  <thead>\n",
       "    <tr style=\"text-align: right;\">\n",
       "      <th></th>\n",
       "      <th>ISBN</th>\n",
       "      <th>Title</th>\n",
       "      <th>Autho</th>\n",
       "      <th>Year</th>\n",
       "      <th>Publisher</th>\n",
       "      <th>Urls</th>\n",
       "      <th>Urlm</th>\n",
       "      <th>Urll</th>\n",
       "    </tr>\n",
       "  </thead>\n",
       "  <tbody>\n",
       "    <tr>\n",
       "      <th>0</th>\n",
       "      <td>0195153448</td>\n",
       "      <td>Classical Mythology</td>\n",
       "      <td>Mark P. O. Morford</td>\n",
       "      <td>2002</td>\n",
       "      <td>Oxford University Press</td>\n",
       "      <td>http://images.amazon.com/images/P/0195153448.0...</td>\n",
       "      <td>http://images.amazon.com/images/P/0195153448.0...</td>\n",
       "      <td>http://images.amazon.com/images/P/0195153448.0...</td>\n",
       "    </tr>\n",
       "    <tr>\n",
       "      <th>1</th>\n",
       "      <td>0002005018</td>\n",
       "      <td>Clara Callan</td>\n",
       "      <td>Richard Bruce Wright</td>\n",
       "      <td>2001</td>\n",
       "      <td>HarperFlamingo Canada</td>\n",
       "      <td>http://images.amazon.com/images/P/0002005018.0...</td>\n",
       "      <td>http://images.amazon.com/images/P/0002005018.0...</td>\n",
       "      <td>http://images.amazon.com/images/P/0002005018.0...</td>\n",
       "    </tr>\n",
       "    <tr>\n",
       "      <th>2</th>\n",
       "      <td>0060973129</td>\n",
       "      <td>Decision in Normandy</td>\n",
       "      <td>Carlo D'Este</td>\n",
       "      <td>1991</td>\n",
       "      <td>HarperPerennial</td>\n",
       "      <td>http://images.amazon.com/images/P/0060973129.0...</td>\n",
       "      <td>http://images.amazon.com/images/P/0060973129.0...</td>\n",
       "      <td>http://images.amazon.com/images/P/0060973129.0...</td>\n",
       "    </tr>\n",
       "  </tbody>\n",
       "</table>\n",
       "</div>"
      ],
      "text/plain": [
       "         ISBN                 Title                 Autho  Year  \\\n",
       "0  0195153448   Classical Mythology    Mark P. O. Morford  2002   \n",
       "1  0002005018          Clara Callan  Richard Bruce Wright  2001   \n",
       "2  0060973129  Decision in Normandy          Carlo D'Este  1991   \n",
       "\n",
       "                 Publisher                                               Urls  \\\n",
       "0  Oxford University Press  http://images.amazon.com/images/P/0195153448.0...   \n",
       "1    HarperFlamingo Canada  http://images.amazon.com/images/P/0002005018.0...   \n",
       "2          HarperPerennial  http://images.amazon.com/images/P/0060973129.0...   \n",
       "\n",
       "                                                Urlm  \\\n",
       "0  http://images.amazon.com/images/P/0195153448.0...   \n",
       "1  http://images.amazon.com/images/P/0002005018.0...   \n",
       "2  http://images.amazon.com/images/P/0060973129.0...   \n",
       "\n",
       "                                                Urll  \n",
       "0  http://images.amazon.com/images/P/0195153448.0...  \n",
       "1  http://images.amazon.com/images/P/0002005018.0...  \n",
       "2  http://images.amazon.com/images/P/0060973129.0...  "
      ]
     },
     "execution_count": 372,
     "metadata": {},
     "output_type": "execute_result"
    }
   ],
   "source": [
    "# Get book data file\n",
    "\n",
    "URL = 'http://www2.informatik.uni-freiburg.de/~cziegler/BX/BX-CSV-Dump.zip'\n",
    "\n",
    "# open and save the zip file onto computer\n",
    "url = urlopen(URL)\n",
    "output = open('BX-CSV-Dump.zip', 'wb')    # note the flag:  \"wb\"        \n",
    "output.write(url.read())\n",
    "output.close()\n",
    "\n",
    "\n",
    "with zipfile.ZipFile(\"BX-CSV-Dump.zip\") as z:\n",
    "   with z.open(\"BX-Books.csv\") as f:\n",
    "      book = pd.read_csv(f, sep=';',error_bad_lines=False, encoding=\"latin-1\")\n",
    "\n",
    "\n",
    "\n",
    "os.remove(\"BX-CSV-Dump.zip\") #removes the zip file\n",
    "\n",
    "book_name=['ISBN','Title','Autho','Year','Publisher','Urls','Urlm','Urll']\n",
    "book.columns=book_name\n",
    "book.head(3)\n"
   ]
  },
  {
   "cell_type": "code",
   "execution_count": 373,
   "metadata": {},
   "outputs": [
    {
     "name": "stdout",
     "output_type": "stream",
     "text": [
      "95511\n"
     ]
    },
    {
     "data": {
      "text/plain": [
       "<matplotlib.axes._subplots.AxesSubplot at 0x274289c56d8>"
      ]
     },
     "execution_count": 373,
     "metadata": {},
     "output_type": "execute_result"
    },
    {
     "data": {
      "image/png": "[encoded data removed]",
      "text/plain": [
       "<matplotlib.figure.Figure at 0x274245f9fd0>"
      ]
     },
     "metadata": {},
     "output_type": "display_data"
    }
   ],
   "source": [
    "# Carry out data exploration \n",
    "\n",
    "print(ratings['UserID'].nunique())\n",
    "\n",
    "ratings.groupby('UserID')['Rating'].count().plot()\n"
   ]
  },
  {
   "cell_type": "code",
   "execution_count": 374,
   "metadata": {},
   "outputs": [
    {
     "name": "stdout",
     "output_type": "stream",
     "text": [
      "Rating\n",
      "0     1\n",
      "1     1\n",
      "2     1\n",
      "3     1\n",
      "4     1\n",
      "5     1\n",
      "6     1\n",
      "7     1\n",
      "8     1\n",
      "9     1\n",
      "10    1\n",
      "Name: Rating, dtype: int64\n",
      "323410\n",
      "0     651327\n",
      "8      95037\n",
      "10     71813\n",
      "7      70018\n",
      "9      62101\n",
      "5      46953\n",
      "6      33752\n",
      "4       8031\n",
      "3       5445\n",
      "2       2492\n",
      "1       1601\n",
      "Name: Rating, dtype: int64\n",
      "8     95037\n",
      "10    71813\n",
      "7     70018\n",
      "9     62101\n",
      "5     46953\n",
      "6     33752\n",
      "4      8031\n",
      "3      5445\n",
      "2      2492\n",
      "1      1601\n",
      "Name: Rating, dtype: int64\n",
      "1248\n",
      "441\n"
     ]
    }
   ],
   "source": [
    "# Analysis for following numbers -# range of ratings  # total no of unqiue books, # number of ratings by book\n",
    "\n",
    "# range of ratings available (0 to 10)\n",
    "print(ratings.groupby('Rating')['Rating'].nunique())\n",
    "\n",
    "# no of Unique books\n",
    "print(ratings['ISBN'].nunique())\n",
    "\n",
    "\n",
    "# frequency of different ratings values\n",
    "\n",
    "print(ratings['Rating'].value_counts())\n",
    "\n",
    "# zero value could mean no rating and also rejection of the book with very low rating. to avoid confusion those values will be removed\n",
    "\n",
    "ratings=ratings[ratings.Rating>0]\n",
    "\n",
    "print(ratings['Rating'].value_counts())\n",
    "\n",
    "# no of books having more than 25 ratings\n",
    "\n",
    "Frequency=ratings.groupby('ISBN')['Rating'].count()\n",
    "\n",
    "print(Frequency[Frequency>25].count())\n",
    "\n",
    "# no of books having more than 100 ratings\n",
    "\n",
    "\n",
    "Frequency=ratings.groupby('ISBN')['Rating'].count()\n",
    "\n",
    "print(Frequency[Frequency>50].count())\n"
   ]
  },
  {
   "cell_type": "code",
   "execution_count": 375,
   "metadata": {},
   "outputs": [
    {
     "name": "stdout",
     "output_type": "stream",
     "text": [
      "Rating    1325\n",
      "dtype: int64\n",
      "Rating    8\n",
      "dtype: int64\n"
     ]
    }
   ],
   "source": [
    "# Analysi by users - How many users have provided ratings for different books\n",
    "\n",
    "unique_user=pd.DataFrame(ratings.groupby('UserID').count()['Rating'])\n",
    "\n",
    "#Number of users who have rated more than 25 times and less than 100\n",
    "print(unique_user[(unique_user.Rating>25) & (unique_user.Rating<50) ].count())\n",
    "\n",
    "\n",
    "# Number of users with very high numbers of ratings\n",
    "print(unique_user[unique_user.Rating>1000].count())\n"
   ]
  },
  {
   "cell_type": "code",
   "execution_count": 376,
   "metadata": {},
   "outputs": [
    {
     "name": "stdout",
     "output_type": "stream",
     "text": [
      "              Rating  Count\n",
      "ISBN                       \n",
      "0971880107  4.442966    526\n",
      "0385504209  8.435556    450\n",
      "0312195516  8.164306    353\n",
      "0679781587  8.380795    302\n",
      "0060928336  7.849315    292\n",
      "059035342X  8.933333    285\n",
      "0142001740  8.494700    283\n",
      "0446672211  8.094340    265\n",
      "044023722X  7.274131    259\n"
     ]
    },
    {
     "data": {
      "text/plain": [
       "<matplotlib.axes._subplots.AxesSubplot at 0x27404774048>"
      ]
     },
     "execution_count": 376,
     "metadata": {},
     "output_type": "execute_result"
    },
    {
     "data": {
      "image/png": "[encoded data removed]",
      "text/plain": [
       "<matplotlib.figure.Figure at 0x274245f9ef0>"
      ]
     },
     "metadata": {},
     "output_type": "display_data"
    }
   ],
   "source": [
    "# what is the average rating of books\n",
    "avg_rating=pd.DataFrame(ratings.groupby('ISBN')['Rating'].mean().sort_values(ascending=False))\n",
    "\n",
    "# Count of no of ratings for each book\n",
    "avg_rating['Count']=ratings.groupby('ISBN')['Rating'].count()\n",
    "\n",
    "\n",
    "#Average ratings of book and no of Ratings available\n",
    "print(avg_rating.sort_values(by='Count',ascending=False)[1:10])\n",
    "\n",
    "\n",
    "# Plot data by average rating and count of ratings\n",
    "avg_rating.plot(kind='scatter',x='Rating',y='Count')\n",
    "\n",
    "# it can be seen from chart high frequency of ratings are middle of the distribution \n",
    "\n"
   ]
  },
  {
   "cell_type": "code",
   "execution_count": 377,
   "metadata": {},
   "outputs": [
    {
     "name": "stdout",
     "output_type": "stream",
     "text": [
      "450\n",
      "(109795, 3)\n"
     ]
    },
    {
     "data": {
      "text/plain": [
       "120093    101\n",
       "169682    101\n",
       "36609     101\n",
       "210035    101\n",
       "26544     101\n",
       "225986    101\n",
       "10560     102\n",
       "146113    102\n",
       "235935    102\n",
       "Name: UserID, dtype: int64"
      ]
     },
     "execution_count": 377,
     "metadata": {},
     "output_type": "execute_result"
    }
   ],
   "source": [
    "# Identifying users who have rated more than 100\n",
    "list=ratings['UserID'].value_counts()\n",
    "\n",
    "# taking only those users who have provided review more than 100 times\n",
    "Updated_ratings=ratings[ratings['UserID'].isin(list[list>100].index)]\n",
    "\n",
    "\n",
    "# no of unique users who have rated more than 100 books\n",
    "print(Updated_ratings['UserID'].nunique())\n",
    "\n",
    "print(Updated_ratings.shape)\n",
    "\n",
    "Updated_ratings['UserID'].value_counts().sort_values(ascending=True)[1:10,]"
   ]
  },
  {
   "cell_type": "code",
   "execution_count": 378,
   "metadata": {},
   "outputs": [
    {
     "name": "stdout",
     "output_type": "stream",
     "text": [
      "(109795, 3)\n",
      "75071\n",
      "437\n",
      "418\n",
      "(7060, 3)\n"
     ]
    }
   ],
   "source": [
    "# Now taking the data set with more than 100 user ratings and Doing analysis on the books by number of ratings\n",
    "print(Updated_ratings.shape)\n",
    "\n",
    "# Total no of unique book in data set\n",
    "\n",
    "print(Updated_ratings['ISBN'].nunique())\n",
    "\n",
    "\n",
    "# no of ratings per book\n",
    "\n",
    "book_count=Updated_ratings['ISBN'].value_counts()\n",
    "\n",
    "\n",
    "# filtering the data set only by those books having more than 10 ratings\n",
    "Final_dataset=Updated_ratings[Updated_ratings['ISBN'].isin(book_count[book_count>10].index)]\n",
    "\n",
    "\n",
    "# After using the filter following are the number of books in data set\n",
    "\n",
    "#Final_dataset.groupby('ISBN')['Rating'].count()\n",
    "\n",
    "# there are books that has only few ratings. those books should be taken out from this  data set\n",
    "print(Final_dataset['ISBN'].nunique())\n",
    "\n",
    "\n",
    "Final_dataset['UserID'].value_counts().sort_values(ascending=True)[1:10,]\n",
    "\n",
    "# no of Unique User in the data set\n",
    "print(Final_dataset['UserID'].nunique())\n",
    "\n",
    "# total data set size\n",
    "print(Final_dataset.shape)"
   ]
  },
  {
   "cell_type": "code",
   "execution_count": 379,
   "metadata": {},
   "outputs": [
    {
     "name": "stdout",
     "output_type": "stream",
     "text": [
      "10    1690\n",
      "8     1690\n",
      "9     1469\n",
      "7      974\n",
      "5      630\n",
      "6      413\n",
      "4       96\n",
      "3       48\n",
      "1       26\n",
      "2       24\n",
      "Name: Rating, dtype: int64\n"
     ]
    },
    {
     "data": {
      "text/plain": [
       "<matplotlib.axes._subplots.AxesSubplot at 0x2740477e7b8>"
      ]
     },
     "execution_count": 379,
     "metadata": {},
     "output_type": "execute_result"
    },
    {
     "data": {
      "image/png": "[encoded data removed]",
      "text/plain": [
       "<matplotlib.figure.Figure at 0x27404c667b8>"
      ]
     },
     "metadata": {},
     "output_type": "display_data"
    }
   ],
   "source": [
    "# Analysis of average ratings of books\n",
    "\n",
    "# distribution of ratings in final dataset \n",
    "\n",
    "print(Final_dataset['Rating'].value_counts())\n",
    "\n",
    "\n",
    "Final_dataset['Rating'].hist(bins=10)\n"
   ]
  },
  {
   "cell_type": "code",
   "execution_count": 380,
   "metadata": {},
   "outputs": [
    {
     "data": {
      "text/plain": [
       "<matplotlib.axes._subplots.AxesSubplot at 0x27404ca35f8>"
      ]
     },
     "execution_count": 380,
     "metadata": {},
     "output_type": "execute_result"
    },
    {
     "data": {
      "image/png": "[encoded data removed]",
      "text/plain": [
       "<matplotlib.figure.Figure at 0x2746012ba90>"
      ]
     },
     "metadata": {},
     "output_type": "display_data"
    }
   ],
   "source": [
    "# Creating a boxplot of the rating\n",
    "Final_dataset.boxplot(column='Rating')\n"
   ]
  },
  {
   "cell_type": "code",
   "execution_count": 381,
   "metadata": {},
   "outputs": [
    {
     "data": {
      "text/plain": [
       "UserID\n",
       "16795     111\n",
       "95359      90\n",
       "104636     75\n",
       "60244      69\n",
       "153662     64\n",
       "6575       59\n",
       "35859      57\n",
       "140358     53\n",
       "158295     49\n",
       "Name: Rating, dtype: int64"
      ]
     },
     "execution_count": 381,
     "metadata": {},
     "output_type": "execute_result"
    },
    {
     "data": {
      "image/png": "[encoded data removed]",
      "text/plain": [
       "<matplotlib.figure.Figure at 0x27404d310f0>"
      ]
     },
     "metadata": {},
     "output_type": "display_data"
    }
   ],
   "source": [
    "# Continue data exploration \n",
    "\n",
    "Final_dataset.groupby('UserID')['Rating'].count().plot()\n",
    "\n",
    "Final_dataset.groupby('UserID')['Rating'].count().sort_values(ascending=False)[1:10,]"
   ]
  },
  {
   "cell_type": "code",
   "execution_count": 382,
   "metadata": {},
   "outputs": [
    {
     "data": {
      "text/html": [
       "<div>\n",
       "<style scoped>\n",
       "    .dataframe tbody tr th:only-of-type {\n",
       "        vertical-align: middle;\n",
       "    }\n",
       "\n",
       "    .dataframe tbody tr th {\n",
       "        vertical-align: top;\n",
       "    }\n",
       "\n",
       "    .dataframe thead th {\n",
       "        text-align: right;\n",
       "    }\n",
       "</style>\n",
       "<table border=\"1\" class=\"dataframe\">\n",
       "  <thead>\n",
       "    <tr style=\"text-align: right;\">\n",
       "      <th></th>\n",
       "      <th>UserID</th>\n",
       "      <th>ISBN</th>\n",
       "      <th>Rating</th>\n",
       "    </tr>\n",
       "  </thead>\n",
       "  <tbody>\n",
       "    <tr>\n",
       "      <th>1456</th>\n",
       "      <td>277427</td>\n",
       "      <td>002542730X</td>\n",
       "      <td>10</td>\n",
       "    </tr>\n",
       "    <tr>\n",
       "      <th>1474</th>\n",
       "      <td>277427</td>\n",
       "      <td>0061009059</td>\n",
       "      <td>9</td>\n",
       "    </tr>\n",
       "    <tr>\n",
       "      <th>1522</th>\n",
       "      <td>277427</td>\n",
       "      <td>0316776963</td>\n",
       "      <td>8</td>\n",
       "    </tr>\n",
       "    <tr>\n",
       "      <th>1581</th>\n",
       "      <td>277427</td>\n",
       "      <td>0385486804</td>\n",
       "      <td>9</td>\n",
       "    </tr>\n",
       "    <tr>\n",
       "      <th>1584</th>\n",
       "      <td>277427</td>\n",
       "      <td>0385504209</td>\n",
       "      <td>8</td>\n",
       "    </tr>\n",
       "    <tr>\n",
       "      <th>1601</th>\n",
       "      <td>277427</td>\n",
       "      <td>0399501487</td>\n",
       "      <td>9</td>\n",
       "    </tr>\n",
       "    <tr>\n",
       "      <th>1647</th>\n",
       "      <td>277427</td>\n",
       "      <td>0440224764</td>\n",
       "      <td>7</td>\n",
       "    </tr>\n",
       "    <tr>\n",
       "      <th>1694</th>\n",
       "      <td>277427</td>\n",
       "      <td>0452284449</td>\n",
       "      <td>6</td>\n",
       "    </tr>\n",
       "    <tr>\n",
       "      <th>1718</th>\n",
       "      <td>277427</td>\n",
       "      <td>0553280368</td>\n",
       "      <td>9</td>\n",
       "    </tr>\n",
       "    <tr>\n",
       "      <th>1776</th>\n",
       "      <td>277427</td>\n",
       "      <td>0679731148</td>\n",
       "      <td>9</td>\n",
       "    </tr>\n",
       "  </tbody>\n",
       "</table>\n",
       "</div>"
      ],
      "text/plain": [
       "      UserID        ISBN  Rating\n",
       "1456  277427  002542730X      10\n",
       "1474  277427  0061009059       9\n",
       "1522  277427  0316776963       8\n",
       "1581  277427  0385486804       9\n",
       "1584  277427  0385504209       8\n",
       "1601  277427  0399501487       9\n",
       "1647  277427  0440224764       7\n",
       "1694  277427  0452284449       6\n",
       "1718  277427  0553280368       9\n",
       "1776  277427  0679731148       9"
      ]
     },
     "execution_count": 382,
     "metadata": {},
     "output_type": "execute_result"
    }
   ],
   "source": [
    "# Creat final data set\n",
    "Final_dataset.head(10)"
   ]
  },
  {
   "cell_type": "code",
   "execution_count": 383,
   "metadata": {},
   "outputs": [
    {
     "data": {
      "text/plain": [
       "(418, 437)"
      ]
     },
     "execution_count": 383,
     "metadata": {},
     "output_type": "execute_result"
    }
   ],
   "source": [
    "# create a pivot table of User and ratings to transform the data to Matrix form\n",
    "\n",
    "rating_matrix=Final_dataset.pivot(index='UserID',columns='ISBN').Rating\n",
    "rating_matrix.head()\n",
    "\n",
    "rating_matrix.shape\n"
   ]
  },
  {
   "cell_type": "code",
   "execution_count": 384,
   "metadata": {},
   "outputs": [
    {
     "name": "stdout",
     "output_type": "stream",
     "text": [
      "Train data  (334, 437)\n",
      "Test data  (42, 437)\n"
     ]
    }
   ],
   "source": [
    "from sklearn import cross_validation as cross_val\n",
    "\n",
    "# splitting data by train and test set data with 80% and 20% split\n",
    "train_set, test_set = cross_val.train_test_split(rating_matrix, test_size=0.2)\n",
    "\n",
    "# splitting data by train and test set data with 90% and 10% split\n",
    "train_set1, test_set1 = cross_val.train_test_split(rating_matrix, test_size=0.1)\n",
    "\n",
    "# Creating train data set (80/20)\n",
    "train_set = pd.DataFrame(train_set)\n",
    "\n",
    "# Creating train data set (90/10)\n",
    "train_set1 = pd.DataFrame(train_set1)\n",
    "\n",
    "# Approach 1: taking mean/median values of a books for all users to replace missing values \n",
    "# mean and median value for train data set columns (80/20)\n",
    "mean_train_set=train_set.mean(axis=1)\n",
    "median_train_set=train_set.median(axis=1)\n",
    "\n",
    "# mean and median value for train data set columns (90/10)\n",
    "mean_train_set1=train_set1.mean(axis=1)\n",
    "median_train_set1=train_set1.median(axis=1)\n",
    "\n",
    "\n",
    "# Creating test data set (80/20)\n",
    "test_set = pd.DataFrame(test_set)\n",
    "\n",
    "mean_test_set=test_set.mean(axis=1)\n",
    "median_test_set=test_set.median(axis=1)\n",
    "\n",
    "\n",
    "# Creating train data set (90/10)\n",
    "test_set = pd.DataFrame(test_set1)\n",
    "\n",
    "mean_test_set1=test_set1.mean(axis=1)\n",
    "median_test_set1=test_set1.median(axis=1)\n",
    "\n",
    "# remove NA values and replace by Average value\n",
    "train_set=train_set.transform(lambda x: x.fillna(x.mean(axis=0)))\n",
    "test_set=test_set.transform(lambda x: x.fillna(x.mean(axis=0)))\n",
    "\n",
    "\n",
    "train_set1=train_set1.transform(lambda x: x.fillna(x.mean(axis=0)))\n",
    "test_set1=test_set1.transform(lambda x: x.fillna(x.mean(axis=0)))\n",
    "\n",
    "\n",
    "\n",
    "\n",
    "# If test set has any NA value as data was plit to train and test, there might not be values  in test set\n",
    "test_set=test_set.fillna(0)\n",
    "test_set1=test_set1.fillna(0)\n",
    "\n",
    "\n",
    "\n",
    "\n",
    "# converting train and test set to array to be used for prediction\n",
    "train_set_list= np.array(train_set)\n",
    "test_set_list=np.array(test_set)\n",
    "\n",
    "\n",
    "train_set_list1= np.array(train_set1)\n",
    "test_set_list1=np.array(test_set1)\n",
    "\n",
    "print(\"Train data\" +\" \",train_set.shape)\n",
    "print(\"Test data\" +\" \",test_set.shape)"
   ]
  },
  {
   "cell_type": "code",
   "execution_count": 385,
   "metadata": {},
   "outputs": [],
   "source": [
    "# Calculate User similarity by using cosine similrity metrics \n",
    "\n",
    "from sklearn.metrics.pairwise import pairwise_distances\n",
    "similarity_user = pairwise_distances(train_set, metric='cosine')\n",
    "\n",
    "similarity_user1 = pairwise_distances(train_set1, metric='cosine')\n"
   ]
  },
  {
   "cell_type": "code",
   "execution_count": 386,
   "metadata": {},
   "outputs": [],
   "source": [
    "# define a function to predict the value of user or item ratings based on similarity measures\n",
    "\n",
    "def predict(data_set, sim_matrix):\n",
    "    mean_rating= mean_train_set\n",
    "    ratings_diff = (data_set - mean_rating[:, np.newaxis])\n",
    "    pred = mean_rating[:, np.newaxis] + sim_matrix.dot(ratings_diff) / np.array([np.abs(sim_matrix).sum(axis=1)]).T\n",
    "    return pred\n",
    "\n",
    "def predict_10(data_set, sim_matrix):\n",
    "    mean_rating= mean_train_set1\n",
    "    ratings_diff = (data_set - mean_rating[:, np.newaxis])\n",
    "    pred = mean_rating[:, np.newaxis] + sim_matrix.dot(ratings_diff) / np.array([np.abs(sim_matrix).sum(axis=1)]).T\n",
    "    return pred"
   ]
  },
  {
   "cell_type": "code",
   "execution_count": 387,
   "metadata": {},
   "outputs": [],
   "source": [
    "# user rating prediction based on similarity measures (80/20)\n",
    "user_rating_prediction=predict(train_set_list, similarity_user)\n",
    "\n",
    "# user rating prediction based on similarity measures (90/10)\n",
    "user_rating_prediction1=predict_10(train_set_list1, similarity_user1)\n"
   ]
  },
  {
   "cell_type": "code",
   "execution_count": 388,
   "metadata": {},
   "outputs": [],
   "source": [
    "# calculate RMSE for predicted values and actual values\n",
    "from sklearn.metrics import mean_squared_error\n",
    "from math import sqrt\n",
    "def RMSE(prediction, data):\n",
    "    prediction = prediction[data.nonzero()].flatten()\n",
    "    dataset = data[data.nonzero()].flatten()\n",
    "    return sqrt(mean_squared_error(prediction, dataset))"
   ]
  },
  {
   "cell_type": "code",
   "execution_count": 389,
   "metadata": {},
   "outputs": [
    {
     "name": "stdout",
     "output_type": "stream",
     "text": [
      "User-based CF RMSE: Train data 80/20 1.2284338390165503\n",
      "User-based CF RMSE: Test Data 80/201.7360154766748623\n",
      "User-based CF RMSE: Train data 90/10 1.1859423641781806\n",
      "User-based CF RMSE: Test Data 90/10 1.933430924932153\n"
     ]
    }
   ],
   "source": [
    "# Calculate RMSE (80/20)\n",
    "\n",
    "RMSE_m_train=RMSE(user_rating_prediction, train_set_list)\n",
    "RMSE_m=RMSE(user_rating_prediction, test_set_list)\n",
    "\n",
    "\n",
    "print ('User-based CF RMSE: Train data 80/20 ' + str(RMSE_m_train))\n",
    "\n",
    "print ('User-based CF RMSE: Test Data 80/20' + str(RMSE_m))\n",
    "\n",
    "\n",
    "# Calculate RMSE (90/10)\n",
    "\n",
    "RMSE_m_train_10=RMSE(user_rating_prediction1, train_set_list1)\n",
    "RMSE_m_10=RMSE(user_rating_prediction1, test_set_list1)\n",
    "\n",
    "\n",
    "print ('User-based CF RMSE: Train data 90/10 ' + str(RMSE_m_train_10))\n",
    "\n",
    "print ('User-based CF RMSE: Test Data 90/10 ' + str(RMSE_m_10))\n"
   ]
  },
  {
   "cell_type": "code",
   "execution_count": 390,
   "metadata": {},
   "outputs": [],
   "source": [
    "# recommendation  based on User and top book values"
   ]
  },
  {
   "cell_type": "code",
   "execution_count": 391,
   "metadata": {},
   "outputs": [],
   "source": [
    "def predict_top_books(rating, similarity, kind='user', k=40):\n",
    "\n",
    "    pred = np.zeros(rating.shape)\n",
    "\n",
    "    if kind == 'user':\n",
    "\n",
    "        mean = rating.mean(axis=1)\n",
    "\n",
    "        rating = (rating - mean[:, np.newaxis]).copy()\n",
    "\n",
    "        for i in range(rating.shape[0]):\n",
    "\n",
    "            top_k_users = [np.argsort(similarity[:,i])[:-k-1:-1]]\n",
    "\n",
    "            for j in range(rating.shape[1]):\n",
    "\n",
    "                pred[i, j] = similarity[i, :][top_k_users].dot(rating[:, j][top_k_users]) \n",
    "\n",
    "                pred[i, j] /= np.sum(np.abs(similarity[i, :][top_k_users]))\n",
    "\n",
    "        pred += mean[:, np.newaxis]\n",
    "    return pred  \n",
    "\n",
    "\n"
   ]
  },
  {
   "cell_type": "code",
   "execution_count": 392,
   "metadata": {},
   "outputs": [
    {
     "name": "stdout",
     "output_type": "stream",
     "text": [
      "User-based CF RMSE: 80/20 1.3684748421560506\n",
      "User-based CF RMSE: 80/201.366616812163134\n",
      "User-based CF RMSE: 80/201.3667010733794922\n",
      "User-based CF RMSE 90/10: 1.3684748421560506\n",
      "User-based CF RMSE: 90/10 1.366616812163134\n",
      "User-based CF RMSE: 90/101.3667010733794922\n"
     ]
    }
   ],
   "source": [
    "\n",
    "# data Set 80/20\n",
    "\n",
    "book_prediction40=predict_top_books(train_set_list, similarity_user, kind='user',k= 40)\n",
    "\n",
    "book_prediction80=predict_top_books(train_set_list, similarity_user, kind='user', k=80)\n",
    "\n",
    "book_prediction100=predict_top_books(train_set_list, similarity_user, kind='user', k=100)\n",
    "\n",
    "\n",
    "# data Set 90/10\n",
    "\n",
    "book_prediction40_10=predict_top_books(train_set_list1, similarity_user1, kind='user',k= 40)\n",
    "\n",
    "book_prediction80_10=predict_top_books(train_set_list1, similarity_user1, kind='user', k=80)\n",
    "\n",
    "book_prediction100_10=predict_top_books(train_set_list1, similarity_user1, kind='user', k=100)\n",
    "\n",
    "\n",
    "\n",
    "# calculate RMSE (80/20)\n",
    "\n",
    "RMSE_m_k40=RMSE(book_prediction40, test_set_list)\n",
    "RMSE_m_k80=RMSE(book_prediction80, test_set_list)\n",
    "RMSE_m_k100=RMSE(book_prediction100, test_set_list)\n",
    "\n",
    "\n",
    "print ('User-based CF RMSE: 80/20 ' + str(RMSE_m_k40))\n",
    "\n",
    "print ('User-based CF RMSE: 80/20' + str(RMSE_m_k80))\n",
    "\n",
    "print ('User-based CF RMSE: 80/20' + str(RMSE_m_k100))\n",
    "            \n",
    " \n",
    "# calculate RMSE (90/10)\n",
    "\n",
    "RMSE_m_k40_10=RMSE(book_prediction40_10, test_set_list1)\n",
    "RMSE_m_k80_10=RMSE(book_prediction80_10, test_set_list1)\n",
    "RMSE_m_k100_10=RMSE(book_prediction100_10, test_set_list1)\n",
    "\n",
    "\n",
    "print ('User-based CF RMSE 90/10: ' + str(RMSE_m_k40))\n",
    "\n",
    "print ('User-based CF RMSE: 90/10 ' + str(RMSE_m_k80))\n",
    "\n",
    "print ('User-based CF RMSE: 90/10' + str(RMSE_m_k100))\n"
   ]
  },
  {
   "cell_type": "code",
   "execution_count": 394,
   "metadata": {},
   "outputs": [],
   "source": [
    "# recommendation based on User rating when NA values are replaced by median"
   ]
  },
  {
   "cell_type": "code",
   "execution_count": 395,
   "metadata": {},
   "outputs": [],
   "source": [
    "\n",
    "# define a function to predict the value of user or item ratings based on similarity measures\n",
    "\n",
    "def predict_m(data_set, sim_matrix):\n",
    "    median_rating= median_train_set\n",
    "    ratings_diff = (data_set - median_rating[:, np.newaxis])\n",
    "    pred = median_rating[:, np.newaxis] + sim_matrix.dot(ratings_diff) / np.array([np.abs(sim_matrix).sum(axis=1)]).T\n",
    "    return pred\n"
   ]
  },
  {
   "cell_type": "code",
   "execution_count": 396,
   "metadata": {},
   "outputs": [],
   "source": [
    "# user rating prediction based on similarity measures\n",
    "user_rating_prediction_me=predict_m(train_set_list, similarity_user)"
   ]
  },
  {
   "cell_type": "code",
   "execution_count": 397,
   "metadata": {},
   "outputs": [
    {
     "name": "stdout",
     "output_type": "stream",
     "text": [
      "User-based CF RMSE: Train data 1.4507841297819366\n",
      "User-based CF RMSE: Test Data 1.4507841297819366\n"
     ]
    }
   ],
   "source": [
    "RMSE_me_train=RMSE(user_rating_prediction_me, train_set_list)\n",
    "RMSE_me=RMSE(user_rating_prediction_me, train_set_list)\n",
    "\n",
    "print ('User-based CF RMSE: Train data ' + str(RMSE_me_train))\n",
    "\n",
    "print ('User-based CF RMSE: Test Data ' + str(RMSE_me))\n"
   ]
  },
  {
   "cell_type": "code",
   "execution_count": 398,
   "metadata": {},
   "outputs": [],
   "source": [
    "def predict_top_books_me(rating, similarity, kind='user', k=40):\n",
    "\n",
    "    pred = np.zeros(rating.shape)\n",
    "\n",
    "    if kind == 'user':\n",
    "\n",
    "        median = median_train_set\n",
    "\n",
    "        rating = (rating - median[:, np.newaxis]).copy()\n",
    "\n",
    "        for i in range(rating.shape[0]):\n",
    "\n",
    "            top_k_users = [np.argsort(similarity[:,i])[:-k-1:-1]]\n",
    "\n",
    "            for j in range(rating.shape[1]):\n",
    "\n",
    "                pred[i, j] = similarity[i, :][top_k_users].dot(rating[:, j][top_k_users]) \n",
    "\n",
    "                pred[i, j] /= np.sum(np.abs(similarity[i, :][top_k_users]))\n",
    "\n",
    "        pred += median[:, np.newaxis]\n",
    "    return pred  "
   ]
  },
  {
   "cell_type": "code",
   "execution_count": 399,
   "metadata": {},
   "outputs": [
    {
     "name": "stdout",
     "output_type": "stream",
     "text": [
      "User-based CF RMSE: 2.291713892353061\n",
      "User-based CF RMSE: 2.291713892353061\n",
      "User-based CF RMSE: 2.291713892353061\n"
     ]
    }
   ],
   "source": [
    "book_prediction40=predict_top_books_me(train_set_list, similarity_user, kind='user',k= 40)\n",
    "\n",
    "book_prediction80=predict_top_books_me(train_set_list, similarity_user, kind='user', k=80)\n",
    "\n",
    "book_prediction100=predict_top_books_me(train_set_list, similarity_user, kind='user', k=100)\n",
    "\n",
    "# Calculate RMSE\n",
    "\n",
    "RMSE_me_k40=RMSE(book_prediction40, test_set_list)\n",
    "RMSE_me_k80=RMSE(book_prediction40, test_set_list)\n",
    "RMSE_me_k100=RMSE(book_prediction40, test_set_list)\n",
    "\n",
    "\n",
    "print ('User-based CF RMSE: ' + str(RMSE_me_k40))\n",
    "\n",
    "print ('User-based CF RMSE: ' + str(RMSE_me_k80))\n",
    "\n",
    "print ('User-based CF RMSE: ' + str(RMSE_me_k100))"
   ]
  },
  {
   "cell_type": "code",
   "execution_count": 400,
   "metadata": {},
   "outputs": [],
   "source": [
    "# item based recommendation system"
   ]
  },
  {
   "cell_type": "code",
   "execution_count": 401,
   "metadata": {},
   "outputs": [
    {
     "name": "stdout",
     "output_type": "stream",
     "text": [
      "Train data  (334, 437)\n",
      "Test data  (84, 437)\n"
     ]
    }
   ],
   "source": [
    "# Collaborative recommendation by using Item matrix\n",
    "\n",
    "from sklearn import cross_validation as cross_val\n",
    "\n",
    "# splitting data by train and test set by 80%/20% split\n",
    "train_set, test_set = cross_val.train_test_split(rating_matrix, test_size=0.2)\n",
    "\n",
    "\n",
    "# splitting data by train and test set by 90%/10% split\n",
    "train_set1, test_set1 = cross_val.train_test_split(rating_matrix, test_size=0.10)\n",
    "\n",
    "\n",
    "\n",
    "# Creating train and test data set(80/20)\n",
    "train_set = pd.DataFrame(train_set)\n",
    "mean_train_set=train_set.mean(axis=1)\n",
    "median_train_set=train_set.median(axis=1)\n",
    "\n",
    "test_set = pd.DataFrame(test_set)\n",
    "mean_test_set=test_set.mean(axis=1)\n",
    "median_test_set=test_set.median(axis=1)\n",
    "\n",
    "# Creating train and test data set(90/10)\n",
    "train_set1 = pd.DataFrame(train_set1)\n",
    "mean_train_set1=train_set1.mean(axis=1)\n",
    "median_train_set1=train_set1.median(axis=1)\n",
    "\n",
    "test_set1 = pd.DataFrame(test_set1)\n",
    "mean_test_set1=test_set1.mean(axis=1)\n",
    "median_test_set1=test_set1.median(axis=1)\n",
    "\n",
    "\n",
    "\n",
    "# remove NA values and replace by Average value (80/20)\n",
    "train_set=train_set.transform(lambda x: x.fillna(x.mean()))\n",
    "\n",
    "test_set=test_set.transform(lambda x: x.fillna(x.mean()))\n",
    "test_set=test_set.fillna(0)\n",
    "\n",
    "\n",
    "# remove NA values and replace by Average value (90/10)\n",
    "train_set1=train_set1.transform(lambda x: x.fillna(x.mean()))\n",
    "\n",
    "test_set1=test_set1.transform(lambda x: x.fillna(x.mean()))\n",
    "test_set1=test_set1.fillna(0)\n",
    "\n",
    "\n",
    "\n",
    "# converting train and test set to array to be used for prediction (80/20)\n",
    "train_set_itemlist= np.array(train_set)\n",
    "test_set_itemlist=np.array(test_set)\n",
    "\n",
    "# converting train and test set to array to be used for prediction (90/10)\n",
    "train_set_itemlist1= np.array(train_set1)\n",
    "test_set_itemlist1=np.array(test_set1)\n",
    "\n",
    "\n",
    "print(\"Train data\" +\" \",train_set.shape)\n",
    "print(\"Test data\" +\" \",test_set.shape)"
   ]
  },
  {
   "cell_type": "code",
   "execution_count": 402,
   "metadata": {},
   "outputs": [],
   "source": [
    "# Item similarity for data set 1(80/20)\n",
    "\n",
    "from sklearn.metrics.pairwise import pairwise_distances\n",
    "similarity_item = pairwise_distances(train_set_itemlist, metric='cosine')\n",
    "\n",
    "# Item similarity for data set 2(90/10)\n",
    "from sklearn.metrics.pairwise import pairwise_distances\n",
    "similarity_item1 = pairwise_distances(train_set_itemlist1, metric='cosine')\n"
   ]
  },
  {
   "cell_type": "code",
   "execution_count": 403,
   "metadata": {},
   "outputs": [],
   "source": [
    "#Prediction based on item set(80/20)\n",
    "\n",
    "item_rating_prediction = train_set_itemlist.T.dot(similarity_item) / np.array([np.abs(similarity_item).sum(axis=1)])\n",
    "\n",
    "#Prediction based on item set(90/10)\n",
    "\n",
    "item_rating_prediction1 = train_set_itemlist1.T.dot(similarity_item1) / np.array([np.abs(similarity_item1).sum(axis=1)])"
   ]
  },
  {
   "cell_type": "code",
   "execution_count": 404,
   "metadata": {},
   "outputs": [
    {
     "name": "stdout",
     "output_type": "stream",
     "text": [
      "User-based CF RMSE_train set 80/20: 0.31615438701709114\n",
      "User-based CF RMSE_Test set 80/20: 1.0958003349318446\n",
      "User-based CF RMSE_train set 90/10: 0.32764384029694615\n",
      "User-based CF RMSE_Test set 90/10: 1.3658595150798136\n"
     ]
    }
   ],
   "source": [
    "# calculate RMSE (80/20)\n",
    "\n",
    "RMSE_Im_train=RMSE(item_rating_prediction, train_set_itemlist.T)\n",
    "RMSE_Im=RMSE(item_rating_prediction, test_set_itemlist.T)\n",
    "\n",
    "print ('User-based CF RMSE_train set 80/20: ' + str(RMSE_Im_train))\n",
    "print('User-based CF RMSE_Test set 80/20: ' +  str(RMSE_Im))\n",
    "\n",
    "# calculate RMSE (90/10)\n",
    "\n",
    "RMSE_Im_train_10=RMSE(item_rating_prediction1, train_set_itemlist1.T)\n",
    "RMSE_Im_10=RMSE(item_rating_prediction1, test_set_itemlist1.T)\n",
    "\n",
    "print ('User-based CF RMSE_train set 90/10: ' + str(RMSE_Im_train_10))\n",
    "print('User-based CF RMSE_Test set 90/10: ' +  str(RMSE_Im_10))"
   ]
  },
  {
   "cell_type": "code",
   "execution_count": 405,
   "metadata": {},
   "outputs": [],
   "source": [
    "def predict_topk_books(ratings,similarity,k=40):\n",
    "\n",
    "    pred = np.zeros(ratings.T.shape)\n",
    "    \n",
    "    mean = mean_train_set\n",
    "\n",
    "    ratings = (ratings.T - mean[np.newaxis, :]).copy()\n",
    "    \n",
    "    for j in range(ratings.shape[1]):\n",
    "\n",
    "        top_k_items = [np.argsort(similarity[:,j])[:-k-1:-1]]\n",
    "        \n",
    "        for i in range(ratings.shape[0]):\n",
    "\n",
    "            pred[i, j] = similarity[j, :][top_k_items].dot(ratings[i, :][top_k_items]) \n",
    "\n",
    "            pred[i, j] /= np.sum(np.abs(similarity[j, :][top_k_items]))\n",
    "\n",
    "    pred += mean[np.newaxis, :]\n",
    "    \n",
    "    return pred  "
   ]
  },
  {
   "cell_type": "code",
   "execution_count": 406,
   "metadata": {},
   "outputs": [],
   "source": [
    "def predict_topk_books_10(ratings,similarity,k=40):\n",
    "\n",
    "    pred = np.zeros(ratings.T.shape)\n",
    "    \n",
    "    mean = mean_train_set1\n",
    "\n",
    "    ratings = (ratings.T - mean[np.newaxis, :]).copy()\n",
    "    \n",
    "    for j in range(ratings.shape[1]):\n",
    "\n",
    "        top_k_items = [np.argsort(similarity[:,j])[:-k-1:-1]]\n",
    "        \n",
    "        for i in range(ratings.shape[0]):\n",
    "\n",
    "            pred[i, j] = similarity[j, :][top_k_items].dot(ratings[i, :][top_k_items]) \n",
    "\n",
    "            pred[i, j] /= np.sum(np.abs(similarity[j, :][top_k_items]))\n",
    "\n",
    "    pred += mean[np.newaxis, :]\n",
    "    \n",
    "    return pred  "
   ]
  },
  {
   "cell_type": "code",
   "execution_count": 407,
   "metadata": {},
   "outputs": [],
   "source": [
    "# set (80/20)\n",
    "item_prediction_m20=predict_topk_books(train_set_itemlist, similarity_item, k=40)\n",
    "\n",
    "item_prediction_m40=predict_topk_books(train_set_itemlist, similarity_item, k=40)\n",
    "\n",
    "item_prediction_m100=predict_topk_books(train_set_itemlist, similarity_item, k=100)\n",
    "\n",
    "#set (90/10)\n",
    "\n",
    "item_prediction_m20_10=predict_topk_books_10(train_set_itemlist1, similarity_item1, k=40)\n",
    "\n",
    "item_prediction_m40_10=predict_topk_books_10(train_set_itemlist1, similarity_item1, k=40)\n",
    "\n",
    "item_prediction_m100_10=predict_topk_books_10(train_set_itemlist1, similarity_item1, k=100)\n",
    "\n"
   ]
  },
  {
   "cell_type": "code",
   "execution_count": 408,
   "metadata": {},
   "outputs": [
    {
     "name": "stdout",
     "output_type": "stream",
     "text": [
      "User-based CF RMSE 80/20: 2.291713892353061\n",
      "User-based CF RMSE 80/20  :2.054901266097125\n",
      "User-based CF RMSE 80/20 : 1.9985528418589744\n",
      "User-based CF RMSE 90/10: 2.32013697538\n",
      "User-based CF RMSE 90/10  :2.32013697538\n",
      "User-based CF RMSE 90/10 : 2.1910697180495933\n"
     ]
    },
    {
     "data": {
      "text/plain": [
       "2.32013697538"
      ]
     },
     "execution_count": 408,
     "metadata": {},
     "output_type": "execute_result"
    }
   ],
   "source": [
    "\n",
    "# Calculate RMSE related to item recommendation\n",
    "\n",
    "# Calculate RMSE set (80/20)\n",
    "\n",
    "RMSE_Im_40=RMSE(book_prediction40, test_set_list)\n",
    "RMSE_Im_80=RMSE(book_prediction80, test_set_list)\n",
    "RMSE_Im_100=RMSE(book_prediction100, test_set_list)\n",
    "\n",
    "\n",
    "print ('User-based CF RMSE 80/20: ' + str(RMSE_Im_40))\n",
    "\n",
    "print ('User-based CF RMSE 80/20  :' + str(RMSE_Im_80))\n",
    "\n",
    "print ('User-based CF RMSE 80/20 : ' + str(RMSE_Im_100))\n",
    "\n",
    "\n",
    "# Calculate RMSE set (90/10)\n",
    "\n",
    "RMSE_Im_40_10=RMSE(item_prediction_m20_10, test_set_list1.T)\n",
    "RMSE_Im_80_10=RMSE(item_prediction_m40_10, test_set_list1.T)\n",
    "RMSE_Im_100_10=RMSE(item_prediction_m100_10, test_set_list1.T)\n",
    "\n",
    "\n",
    "print ('User-based CF RMSE 90/10: ' + str(RMSE_Im_40_10))\n",
    "\n",
    "print ('User-based CF RMSE 90/10  :' + str(RMSE_Im_80_10))\n",
    "\n",
    "print ('User-based CF RMSE 90/10 : ' + str(RMSE_Im_100_10))\n",
    "\n",
    "RMSE(item_prediction_m20_10, test_set_list1.T)\n"
   ]
  },
  {
   "cell_type": "code",
   "execution_count": 409,
   "metadata": {},
   "outputs": [],
   "source": [
    "# Prediction based on median values"
   ]
  },
  {
   "cell_type": "code",
   "execution_count": 410,
   "metadata": {},
   "outputs": [],
   "source": [
    "def predict_topk_books(ratings,similarity,k=40):\n",
    "\n",
    "    pred = np.zeros(ratings.T.shape)\n",
    "    \n",
    "    mean = median_train_set\n",
    "\n",
    "    ratings = (ratings.T - mean[np.newaxis, :]).copy()\n",
    "    \n",
    "    for j in range(ratings.shape[1]):\n",
    "\n",
    "        top_k_items = [np.argsort(similarity[:,j])[:-k-1:-1]]\n",
    "        \n",
    "        for i in range(ratings.shape[0]):\n",
    "\n",
    "            pred[i, j] = similarity[j, :][top_k_items].dot(ratings[i, :][top_k_items]) \n",
    "\n",
    "            pred[i, j] /= np.sum(np.abs(similarity[j, :][top_k_items]))\n",
    "\n",
    "    pred += mean[np.newaxis, :]\n",
    "    \n",
    "    return pred  "
   ]
  },
  {
   "cell_type": "code",
   "execution_count": 411,
   "metadata": {},
   "outputs": [],
   "source": [
    "item_prediction_me20=predict_topk_books(train_set_itemlist, similarity_item, k=40)\n",
    "\n",
    "item_prediction_me40=predict_topk_books(train_set_itemlist, similarity_item, k=40)\n",
    "\n",
    "item_prediction_me100=predict_topk_books(train_set_itemlist, similarity_item, k=100)"
   ]
  },
  {
   "cell_type": "code",
   "execution_count": 412,
   "metadata": {},
   "outputs": [
    {
     "name": "stdout",
     "output_type": "stream",
     "text": [
      "User-based CF RMSE: 2.1574862186983284\n",
      "User-based CF RMSE: 2.1574862186983284\n",
      "User-based CF RMSE: 1.943866016348021\n"
     ]
    }
   ],
   "source": [
    "# Calculate RMSE\n",
    "\n",
    "RMSE_Ime_20=RMSE(item_prediction_me20, test_set_itemlist.T)\n",
    "RMSE_Ime_40=RMSE(item_prediction_me40, test_set_itemlist.T)\n",
    "RMSE_Ime_100=RMSE(item_prediction_me100, test_set_itemlist.T)\n",
    "\n",
    "\n",
    "print('User-based CF RMSE: ' + str(RMSE_Ime_20))\n",
    "\n",
    "print('User-based CF RMSE: ' + str(RMSE_Ime_40))\n",
    "\n",
    "print('User-based CF RMSE: ' + str(RMSE_Ime_100))"
   ]
  },
  {
   "cell_type": "code",
   "execution_count": 413,
   "metadata": {},
   "outputs": [],
   "source": [
    "# SVD collaboration"
   ]
  },
  {
   "cell_type": "code",
   "execution_count": 414,
   "metadata": {},
   "outputs": [],
   "source": [
    "def RMSE(prediction, data):\n",
    "    prediction = prediction[data.nonzero()].flatten()\n",
    "    dataset = data[data.nonzero()].flatten()\n",
    "    return sqrt(mean_squared_error(prediction, dataset))"
   ]
  },
  {
   "cell_type": "code",
   "execution_count": 415,
   "metadata": {},
   "outputs": [
    {
     "name": "stdout",
     "output_type": "stream",
     "text": [
      "User-based CF MSE test k10: 1.3832865705462754\n",
      "User-based CF MSE test k10@ 10% data: 1.3699966616587131\n",
      "User-based CF MSE train k20: 1.3898485255360673\n",
      "User-based CF MSE train k20@ 10% split: 1.3760019545926503\n",
      "User-based CF MSE train k25: 1.3912127579152032\n",
      "User-based CF MSE train k25@ 10% split: 1.3773046168212921\n"
     ]
    }
   ],
   "source": [
    "import scipy.sparse as sp\n",
    "from scipy.sparse.linalg import svds\n",
    "\n",
    "\n",
    "#get SVD components from train matrix. k=10 ( 20% split data)\n",
    "user_fea, singular_val, item_fea = svds(train_set, k = 10)\n",
    "s_diag_matrix=np.diag(singular_val)\n",
    "pred_SVD10 = np.dot(np.dot(user_fea, s_diag_matrix), item_fea)\n",
    "\n",
    "\n",
    "RMSE_SVD10=RMSE(pred_SVD10, test_set_list)\n",
    "\n",
    "print ('User-based CF MSE test k10: ' + str(RMSE_SVD10))\n",
    "\n",
    "#get SVD components from train matrix. k=10 ( 10% split data)\n",
    "user_fea, singular_val, item_fea = svds(train_set1, k = 10)\n",
    "s_diag_matrix=np.diag(singular_val)\n",
    "pred_SVD10_i = np.dot(np.dot(user_fea, s_diag_matrix), item_fea)\n",
    "\n",
    "\n",
    "RMSE_SVD10_i=RMSE(pred_SVD10_i, test_set_list1)\n",
    "\n",
    "print ('User-based CF MSE test k10@ 10% data: ' + str(RMSE_SVD10_i))\n",
    "\n",
    "#get SVD components from train matrix. Choose k=20\n",
    "user_fea, singular_val, item_fea = svds(train_set, k = 20)\n",
    "s_diag_matrix=np.diag(singular_val)\n",
    "pred_SVD20 = np.dot(np.dot(user_fea, s_diag_matrix), item_fea)\n",
    "pred_SVD20.shape\n",
    "\n",
    "RMSE_SVD20=RMSE(pred_SVD20, test_set_list)\n",
    "\n",
    "print ('User-based CF MSE train k20: ' + str(RMSE_SVD20))\n",
    "\n",
    "\n",
    "#get SVD components from train matrix. Choose k=20 @ 10% split\n",
    "user_fea, singular_val, item_fea = svds(train_set1, k = 20)\n",
    "s_diag_matrix=np.diag(singular_val)\n",
    "pred_SVD20_i = np.dot(np.dot(user_fea, s_diag_matrix), item_fea)\n",
    "\n",
    "\n",
    "RMSE_SVD20_i=RMSE(pred_SVD20_i, test_set_list1)\n",
    "\n",
    "print ('User-based CF MSE train k20@ 10% split: ' + str(RMSE_SVD20_i))\n",
    "\n",
    "\n",
    "\n",
    "#get SVD components from train matrix. Choose k=25\n",
    "user_fea, singular_val, item_fea = svds(train_set, k = 25)\n",
    "s_diag_matrix=np.diag(singular_val)\n",
    "pred_SVD25 = np.dot(np.dot(user_fea, s_diag_matrix), item_fea)\n",
    "\n",
    "\n",
    "RMSE_SVD25=RMSE(pred_SVD25, test_set_list)\n",
    "print ('User-based CF MSE train k25: ' + str(RMSE_SVD25))\n",
    "\n",
    "\n",
    "#get SVD components from train matrix. Choose k=25 @ 10% split data\n",
    "user_fea, singular_val, item_fea = svds(train_set1, k = 25)\n",
    "s_diag_matrix=np.diag(singular_val)\n",
    "pred_SVD25_i = np.dot(np.dot(user_fea, s_diag_matrix), item_fea)\n",
    "\n",
    "\n",
    "RMSE_SVD25_i=RMSE(pred_SVD25_i, test_set_list1)\n",
    "print ('User-based CF MSE train k25@ 10% split: ' + str(RMSE_SVD25_i))\n"
   ]
  },
  {
   "cell_type": "code",
   "execution_count": 416,
   "metadata": {},
   "outputs": [],
   "source": [
    "# Create list for Chart"
   ]
  },
  {
   "cell_type": "code",
   "execution_count": 417,
   "metadata": {},
   "outputs": [
    {
     "name": "stdout",
     "output_type": "stream",
     "text": [
      "[1.7360154766748623, 1.3684748421560506, 1.366616812163134, 1.3667010733794922] [1.4507841297819366, 2.291713892353061, 2.291713892353061, 2.291713892353061] [1.0958003349318446, 2.291713892353061, 2.054901266097125, 1.9985528418589744] [1.0958003349318446, 2.1574862186983284, 2.1574862186983284, 1.943866016348021]\n",
      "   Item_Lm_10  RMSE_SVD10  RMSE_m_10\n",
      "0    1.365860    1.369997   1.933431\n",
      "1    2.320137    1.369997   1.556852\n",
      "2    2.320137    1.376002   1.553870\n",
      "3    2.191070    1.377305   1.553001\n",
      "    Item_Lm  Item_Lme  RMSE_SVD    RMSE_m   RMSE_me\n",
      "0  1.095800  1.095800  1.383287  1.736015  1.450784\n",
      "1  2.291714  2.157486  1.383287  1.368475  2.291714\n",
      "2  2.054901  2.157486  1.389849  1.366617  2.291714\n",
      "3  1.998553  1.943866  1.391213  1.366701  2.291714\n"
     ]
    }
   ],
   "source": [
    "# create the user list train and test data split 20%\n",
    "User_Lm=[RMSE_m,RMSE_m_k40,RMSE_m_k80,RMSE_m_k100]\n",
    "\n",
    "User_Lme=[RMSE_me,RMSE_me_k40,RMSE_me_k80,RMSE_me_k100]\n",
    "\n",
    "# creating list for train and test data split 10%\n",
    "User_Lm_10=[RMSE_m_10,RMSE_m_k40_10,RMSE_m_k80_10,RMSE_m_k100_10]\n",
    "\n",
    "#User_Lme_10=[RMSE_me_10,RMSE_me_k40_10,RMSE_me_k80_10,RMSE_me_k100_10]\n",
    "\n",
    "\n",
    "\n",
    "# create the user item list train and test data split 20%\n",
    "\n",
    "Item_Lm=[RMSE_Im,RMSE_Im_40,RMSE_Im_80,RMSE_Im_100]\n",
    "\n",
    "Item_Lme=[RMSE_Im,RMSE_Ime_20,RMSE_Ime_40,RMSE_Ime_100]\n",
    "\n",
    "\n",
    "\n",
    "# creating list for train and test data split 10%\n",
    "\n",
    "Item_Lm_10=[RMSE_Im_10,RMSE_Im_40_10,RMSE_Im_80_10,RMSE_Im_100_10]\n",
    "\n",
    "#Item_Lme_10=[RMSE_Im_10,RMSE_Ime_20_10,RMSE_Ime_40_10,RMSE_Ime_100_10]\n",
    "\n",
    "\n",
    "# create the user item list for SVD test data split 20%\n",
    "\n",
    "RMSE_SVD=[RMSE_SVD10,RMSE_SVD10,RMSE_SVD20,RMSE_SVD25]\n",
    "\n",
    "# create the user item list for SVD test data split 10%\n",
    "RMSE_SVD_10=[RMSE_SVD10_i,RMSE_SVD10_i,RMSE_SVD20_i,RMSE_SVD25_i]\n",
    "\n",
    "print(User_Lm,User_Lme,Item_Lm,Item_Lme)\n",
    "\n",
    "List_20={'RMSE_m': User_Lm,'RMSE_me':User_Lme,'Item_Lm': Item_Lm,'Item_Lme': Item_Lme,'RMSE_SVD':RMSE_SVD }\n",
    "\n",
    "List_10={'RMSE_m_10': User_Lm_10,'Item_Lm_10': Item_Lm_10,'RMSE_SVD10':RMSE_SVD_10 }\n",
    "\n",
    "List_RMSE_20=pd.DataFrame(List_20)\n",
    "\n",
    "List_RMSE_10=pd.DataFrame(List_10)\n",
    "\n",
    "print(List_RMSE_10)\n",
    "\n",
    "print(List_RMSE_20)"
   ]
  },
  {
   "cell_type": "code",
   "execution_count": 418,
   "metadata": {},
   "outputs": [
    {
     "data": {
      "text/plain": [
       "[<matplotlib.axis.XTick at 0x2746170c9e8>,\n",
       " <matplotlib.axis.XTick at 0x27404cee358>,\n",
       " <matplotlib.axis.XTick at 0x2740569b550>,\n",
       " <matplotlib.axis.XTick at 0x27405820dd8>]"
      ]
     },
     "execution_count": 418,
     "metadata": {},
     "output_type": "execute_result"
    },
    {
     "data": {
      "image/png": "[encoded data removed]",
      "text/plain": [
       "<matplotlib.figure.Figure at 0x27405846f98>"
      ]
     },
     "metadata": {},
     "output_type": "display_data"
    }
   ],
   "source": [
    "x=['0=All','1=k40','2=k80','3=k100']\n",
    "\n",
    "y=List_RMSE_20.plot()\n",
    "y.set_xlabel(x)\n",
    "y.set_ylabel('RMSE')\n",
    "y.set_title('RMSE Comparison with Train and Test split 80%/20%')\n",
    "y.set_xticks([0,1,2,3])"
   ]
  },
  {
   "cell_type": "code",
   "execution_count": 419,
   "metadata": {},
   "outputs": [
    {
     "data": {
      "text/plain": [
       "[<matplotlib.axis.XTick at 0x2745ef429b0>,\n",
       " <matplotlib.axis.XTick at 0x27459ba0080>,\n",
       " <matplotlib.axis.XTick at 0x2745deb3978>,\n",
       " <matplotlib.axis.XTick at 0x2743cdbceb8>]"
      ]
     },
     "execution_count": 419,
     "metadata": {},
     "output_type": "execute_result"
    },
    {
     "data": {
      "image/png": "[encoded data removed]",
      "text/plain": [
       "<matplotlib.figure.Figure at 0x27404c6d6a0>"
      ]
     },
     "metadata": {},
     "output_type": "display_data"
    }
   ],
   "source": [
    "z=['0=All','1=k40','2=k80','3=k100']\n",
    "x=List_RMSE_10.plot()\n",
    "x.set_xlabel(z)\n",
    "x.set_ylabel('RMSE')\n",
    "x.set_title('RMSE Comparison with Train and Test split 90%/10%')\n",
    "x.set_xticks([0,1,2,3])"
   ]
  },
  {
   "cell_type": "code",
   "execution_count": 420,
   "metadata": {},
   "outputs": [],
   "source": [
    "# Use the selected model to recommend books"
   ]
  },
  {
   "cell_type": "code",
   "execution_count": 421,
   "metadata": {},
   "outputs": [
    {
     "data": {
      "text/html": [
       "<div>\n",
       "<style scoped>\n",
       "    .dataframe tbody tr th:only-of-type {\n",
       "        vertical-align: middle;\n",
       "    }\n",
       "\n",
       "    .dataframe tbody tr th {\n",
       "        vertical-align: top;\n",
       "    }\n",
       "\n",
       "    .dataframe thead th {\n",
       "        text-align: right;\n",
       "    }\n",
       "</style>\n",
       "<table border=\"1\" class=\"dataframe\">\n",
       "  <thead>\n",
       "    <tr style=\"text-align: right;\">\n",
       "      <th></th>\n",
       "      <th>002542730X</th>\n",
       "      <th>0060392452</th>\n",
       "      <th>0060502258</th>\n",
       "      <th>0060915544</th>\n",
       "      <th>0060920084</th>\n",
       "      <th>0060928336</th>\n",
       "      <th>0060929871</th>\n",
       "      <th>0060930535</th>\n",
       "      <th>0060934417</th>\n",
       "      <th>0060938455</th>\n",
       "      <th>...</th>\n",
       "      <th>155874262X</th>\n",
       "      <th>1558743669</th>\n",
       "      <th>1558744150</th>\n",
       "      <th>1558745157</th>\n",
       "      <th>1573225789</th>\n",
       "      <th>1573229326</th>\n",
       "      <th>1573229725</th>\n",
       "      <th>1592400876</th>\n",
       "      <th>1878424319</th>\n",
       "      <th>index_col</th>\n",
       "    </tr>\n",
       "  </thead>\n",
       "  <tbody>\n",
       "    <tr>\n",
       "      <th>0</th>\n",
       "      <td>7.678271</td>\n",
       "      <td>8.536591</td>\n",
       "      <td>7.617729</td>\n",
       "      <td>8.664231</td>\n",
       "      <td>7.988385</td>\n",
       "      <td>8.121890</td>\n",
       "      <td>7.101251</td>\n",
       "      <td>7.475601</td>\n",
       "      <td>8.444029</td>\n",
       "      <td>8.103158</td>\n",
       "      <td>...</td>\n",
       "      <td>8.367264</td>\n",
       "      <td>7.482038</td>\n",
       "      <td>7.370301</td>\n",
       "      <td>7.713740</td>\n",
       "      <td>8.273134</td>\n",
       "      <td>6.599887</td>\n",
       "      <td>8.993500</td>\n",
       "      <td>8.797424</td>\n",
       "      <td>6.128316</td>\n",
       "      <td>56271</td>\n",
       "    </tr>\n",
       "    <tr>\n",
       "      <th>1</th>\n",
       "      <td>7.658432</td>\n",
       "      <td>8.530060</td>\n",
       "      <td>7.607385</td>\n",
       "      <td>8.619408</td>\n",
       "      <td>8.009170</td>\n",
       "      <td>8.133905</td>\n",
       "      <td>7.105249</td>\n",
       "      <td>7.480344</td>\n",
       "      <td>8.387558</td>\n",
       "      <td>8.114078</td>\n",
       "      <td>...</td>\n",
       "      <td>8.392908</td>\n",
       "      <td>7.412127</td>\n",
       "      <td>7.387852</td>\n",
       "      <td>7.680719</td>\n",
       "      <td>8.283307</td>\n",
       "      <td>6.618721</td>\n",
       "      <td>9.004178</td>\n",
       "      <td>8.792802</td>\n",
       "      <td>6.226292</td>\n",
       "      <td>32440</td>\n",
       "    </tr>\n",
       "    <tr>\n",
       "      <th>2</th>\n",
       "      <td>7.685337</td>\n",
       "      <td>8.573492</td>\n",
       "      <td>7.662559</td>\n",
       "      <td>8.669370</td>\n",
       "      <td>8.023439</td>\n",
       "      <td>8.156590</td>\n",
       "      <td>7.046198</td>\n",
       "      <td>7.548312</td>\n",
       "      <td>8.468860</td>\n",
       "      <td>8.134960</td>\n",
       "      <td>...</td>\n",
       "      <td>8.357465</td>\n",
       "      <td>7.464087</td>\n",
       "      <td>7.338925</td>\n",
       "      <td>7.697813</td>\n",
       "      <td>8.300843</td>\n",
       "      <td>6.606695</td>\n",
       "      <td>9.009785</td>\n",
       "      <td>8.815010</td>\n",
       "      <td>6.141444</td>\n",
       "      <td>26583</td>\n",
       "    </tr>\n",
       "    <tr>\n",
       "      <th>3</th>\n",
       "      <td>7.638244</td>\n",
       "      <td>8.479506</td>\n",
       "      <td>7.562695</td>\n",
       "      <td>8.598589</td>\n",
       "      <td>7.980164</td>\n",
       "      <td>8.085078</td>\n",
       "      <td>7.154639</td>\n",
       "      <td>7.521656</td>\n",
       "      <td>8.323531</td>\n",
       "      <td>8.079204</td>\n",
       "      <td>...</td>\n",
       "      <td>8.476775</td>\n",
       "      <td>7.462895</td>\n",
       "      <td>7.253215</td>\n",
       "      <td>7.690312</td>\n",
       "      <td>8.286217</td>\n",
       "      <td>6.530444</td>\n",
       "      <td>8.961807</td>\n",
       "      <td>8.768581</td>\n",
       "      <td>6.286452</td>\n",
       "      <td>164323</td>\n",
       "    </tr>\n",
       "    <tr>\n",
       "      <th>4</th>\n",
       "      <td>7.496503</td>\n",
       "      <td>8.563270</td>\n",
       "      <td>7.580995</td>\n",
       "      <td>8.872168</td>\n",
       "      <td>8.049149</td>\n",
       "      <td>8.234878</td>\n",
       "      <td>6.986330</td>\n",
       "      <td>7.033181</td>\n",
       "      <td>8.810336</td>\n",
       "      <td>8.105282</td>\n",
       "      <td>...</td>\n",
       "      <td>8.698156</td>\n",
       "      <td>7.336837</td>\n",
       "      <td>7.820130</td>\n",
       "      <td>7.762857</td>\n",
       "      <td>8.238860</td>\n",
       "      <td>6.526761</td>\n",
       "      <td>8.978908</td>\n",
       "      <td>8.784575</td>\n",
       "      <td>6.250694</td>\n",
       "      <td>35836</td>\n",
       "    </tr>\n",
       "  </tbody>\n",
       "</table>\n",
       "<p>5 rows × 438 columns</p>\n",
       "</div>"
      ],
      "text/plain": [
       "   002542730X  0060392452  0060502258  0060915544  0060920084  0060928336  \\\n",
       "0    7.678271    8.536591    7.617729    8.664231    7.988385    8.121890   \n",
       "1    7.658432    8.530060    7.607385    8.619408    8.009170    8.133905   \n",
       "2    7.685337    8.573492    7.662559    8.669370    8.023439    8.156590   \n",
       "3    7.638244    8.479506    7.562695    8.598589    7.980164    8.085078   \n",
       "4    7.496503    8.563270    7.580995    8.872168    8.049149    8.234878   \n",
       "\n",
       "   0060929871  0060930535  0060934417  0060938455    ...      155874262X  \\\n",
       "0    7.101251    7.475601    8.444029    8.103158    ...        8.367264   \n",
       "1    7.105249    7.480344    8.387558    8.114078    ...        8.392908   \n",
       "2    7.046198    7.548312    8.468860    8.134960    ...        8.357465   \n",
       "3    7.154639    7.521656    8.323531    8.079204    ...        8.476775   \n",
       "4    6.986330    7.033181    8.810336    8.105282    ...        8.698156   \n",
       "\n",
       "   1558743669  1558744150  1558745157  1573225789  1573229326  1573229725  \\\n",
       "0    7.482038    7.370301    7.713740    8.273134    6.599887    8.993500   \n",
       "1    7.412127    7.387852    7.680719    8.283307    6.618721    9.004178   \n",
       "2    7.464087    7.338925    7.697813    8.300843    6.606695    9.009785   \n",
       "3    7.462895    7.253215    7.690312    8.286217    6.530444    8.961807   \n",
       "4    7.336837    7.820130    7.762857    8.238860    6.526761    8.978908   \n",
       "\n",
       "   1592400876  1878424319  index_col  \n",
       "0    8.797424    6.128316      56271  \n",
       "1    8.792802    6.226292      32440  \n",
       "2    8.815010    6.141444      26583  \n",
       "3    8.768581    6.286452     164323  \n",
       "4    8.784575    6.250694      35836  \n",
       "\n",
       "[5 rows x 438 columns]"
      ]
     },
     "execution_count": 421,
     "metadata": {},
     "output_type": "execute_result"
    }
   ],
   "source": [
    "book_list=pd.DataFrame(pred_SVD20)\n",
    "\n",
    "# assign column name as the ISBN No\n",
    "col=train_set.columns.values\n",
    "book_list.columns=col\n",
    "\n",
    "# set index\n",
    "row_index=train_set.index\n",
    "book_list['index_col'] = row_index\n",
    "book_list.head()\n",
    "\n"
   ]
  },
  {
   "cell_type": "code",
   "execution_count": 422,
   "metadata": {},
   "outputs": [
    {
     "data": {
      "text/html": [
       "<div>\n",
       "<style scoped>\n",
       "    .dataframe tbody tr th:only-of-type {\n",
       "        vertical-align: middle;\n",
       "    }\n",
       "\n",
       "    .dataframe tbody tr th {\n",
       "        vertical-align: top;\n",
       "    }\n",
       "\n",
       "    .dataframe thead th {\n",
       "        text-align: right;\n",
       "    }\n",
       "</style>\n",
       "<table border=\"1\" class=\"dataframe\">\n",
       "  <thead>\n",
       "    <tr style=\"text-align: right;\">\n",
       "      <th></th>\n",
       "      <th>ISBN</th>\n",
       "      <th>Title</th>\n",
       "      <th>Autho</th>\n",
       "      <th>Year</th>\n",
       "      <th>Publisher</th>\n",
       "      <th>Urls</th>\n",
       "      <th>Urlm</th>\n",
       "      <th>Urll</th>\n",
       "    </tr>\n",
       "  </thead>\n",
       "  <tbody>\n",
       "    <tr>\n",
       "      <th>388</th>\n",
       "      <td>0156528207</td>\n",
       "      <td>The Little Prince</td>\n",
       "      <td>Antoine de Saint-ExupÃ©ry</td>\n",
       "      <td>1968</td>\n",
       "      <td>Harcourt</td>\n",
       "      <td>http://images.amazon.com/images/P/0156528207.0...</td>\n",
       "      <td>http://images.amazon.com/images/P/0156528207.0...</td>\n",
       "      <td>http://images.amazon.com/images/P/0156528207.0...</td>\n",
       "    </tr>\n",
       "    <tr>\n",
       "      <th>3847</th>\n",
       "      <td>0064400557</td>\n",
       "      <td>Charlotte's Web (Trophy Newbery)</td>\n",
       "      <td>E. B. White</td>\n",
       "      <td>1974</td>\n",
       "      <td>HarperTrophy</td>\n",
       "      <td>http://images.amazon.com/images/P/0064400557.0...</td>\n",
       "      <td>http://images.amazon.com/images/P/0064400557.0...</td>\n",
       "      <td>http://images.amazon.com/images/P/0064400557.0...</td>\n",
       "    </tr>\n",
       "    <tr>\n",
       "      <th>5898</th>\n",
       "      <td>0553274295</td>\n",
       "      <td>Where the Red Fern Grows</td>\n",
       "      <td>Wilson Rawls</td>\n",
       "      <td>1984</td>\n",
       "      <td>Random House Children's Books</td>\n",
       "      <td>http://images.amazon.com/images/P/0553274295.0...</td>\n",
       "      <td>http://images.amazon.com/images/P/0553274295.0...</td>\n",
       "      <td>http://images.amazon.com/images/P/0553274295.0...</td>\n",
       "    </tr>\n",
       "    <tr>\n",
       "      <th>7732</th>\n",
       "      <td>0446365386</td>\n",
       "      <td>Gone with the Wind</td>\n",
       "      <td>Margaret Mitchell</td>\n",
       "      <td>1993</td>\n",
       "      <td>Warner Books</td>\n",
       "      <td>http://images.amazon.com/images/P/0446365386.0...</td>\n",
       "      <td>http://images.amazon.com/images/P/0446365386.0...</td>\n",
       "      <td>http://images.amazon.com/images/P/0446365386.0...</td>\n",
       "    </tr>\n",
       "    <tr>\n",
       "      <th>12762</th>\n",
       "      <td>0618002235</td>\n",
       "      <td>The Two Towers (The Lord of the Rings, Part 2)</td>\n",
       "      <td>J. R. R. Tolkien</td>\n",
       "      <td>1999</td>\n",
       "      <td>Houghton Mifflin Company</td>\n",
       "      <td>http://images.amazon.com/images/P/0618002235.0...</td>\n",
       "      <td>http://images.amazon.com/images/P/0618002235.0...</td>\n",
       "      <td>http://images.amazon.com/images/P/0618002235.0...</td>\n",
       "    </tr>\n",
       "    <tr>\n",
       "      <th>12763</th>\n",
       "      <td>0618002227</td>\n",
       "      <td>The Fellowship of the Ring (The Lord of the Ri...</td>\n",
       "      <td>J. R. R. Tolkien</td>\n",
       "      <td>1999</td>\n",
       "      <td>Houghton Mifflin Company</td>\n",
       "      <td>http://images.amazon.com/images/P/0618002227.0...</td>\n",
       "      <td>http://images.amazon.com/images/P/0618002227.0...</td>\n",
       "      <td>http://images.amazon.com/images/P/0618002227.0...</td>\n",
       "    </tr>\n",
       "    <tr>\n",
       "      <th>15181</th>\n",
       "      <td>0836218051</td>\n",
       "      <td>The Essential Calvin and Hobbes</td>\n",
       "      <td>Bill Watterson</td>\n",
       "      <td>1988</td>\n",
       "      <td>Andrews McMeel Publishing</td>\n",
       "      <td>http://images.amazon.com/images/P/0836218051.0...</td>\n",
       "      <td>http://images.amazon.com/images/P/0836218051.0...</td>\n",
       "      <td>http://images.amazon.com/images/P/0836218051.0...</td>\n",
       "    </tr>\n",
       "    <tr>\n",
       "      <th>29729</th>\n",
       "      <td>006440188X</td>\n",
       "      <td>The Secret Garden</td>\n",
       "      <td>Frances Hodgson Burnett</td>\n",
       "      <td>1998</td>\n",
       "      <td>HarperTrophy</td>\n",
       "      <td>http://images.amazon.com/images/P/006440188X.0...</td>\n",
       "      <td>http://images.amazon.com/images/P/006440188X.0...</td>\n",
       "      <td>http://images.amazon.com/images/P/006440188X.0...</td>\n",
       "    </tr>\n",
       "    <tr>\n",
       "      <th>31978</th>\n",
       "      <td>0684814994</td>\n",
       "      <td>Christmas Box (Christmas Box Trilogy)</td>\n",
       "      <td>Richard Paul Evans</td>\n",
       "      <td>1995</td>\n",
       "      <td>Simon &amp;amp; Schuster</td>\n",
       "      <td>http://images.amazon.com/images/P/0684814994.0...</td>\n",
       "      <td>http://images.amazon.com/images/P/0684814994.0...</td>\n",
       "      <td>http://images.amazon.com/images/P/0684814994.0...</td>\n",
       "    </tr>\n",
       "  </tbody>\n",
       "</table>\n",
       "</div>"
      ],
      "text/plain": [
       "             ISBN                                              Title  \\\n",
       "388    0156528207                                  The Little Prince   \n",
       "3847   0064400557                   Charlotte's Web (Trophy Newbery)   \n",
       "5898   0553274295                           Where the Red Fern Grows   \n",
       "7732   0446365386                                 Gone with the Wind   \n",
       "12762  0618002235     The Two Towers (The Lord of the Rings, Part 2)   \n",
       "12763  0618002227  The Fellowship of the Ring (The Lord of the Ri...   \n",
       "15181  0836218051                    The Essential Calvin and Hobbes   \n",
       "29729  006440188X                                  The Secret Garden   \n",
       "31978  0684814994              Christmas Box (Christmas Box Trilogy)   \n",
       "\n",
       "                           Autho  Year                      Publisher  \\\n",
       "388    Antoine de Saint-ExupÃ©ry  1968                       Harcourt   \n",
       "3847                 E. B. White  1974                   HarperTrophy   \n",
       "5898                Wilson Rawls  1984  Random House Children's Books   \n",
       "7732           Margaret Mitchell  1993                   Warner Books   \n",
       "12762           J. R. R. Tolkien  1999       Houghton Mifflin Company   \n",
       "12763           J. R. R. Tolkien  1999       Houghton Mifflin Company   \n",
       "15181             Bill Watterson  1988      Andrews McMeel Publishing   \n",
       "29729    Frances Hodgson Burnett  1998                   HarperTrophy   \n",
       "31978         Richard Paul Evans  1995           Simon &amp; Schuster   \n",
       "\n",
       "                                                    Urls  \\\n",
       "388    http://images.amazon.com/images/P/0156528207.0...   \n",
       "3847   http://images.amazon.com/images/P/0064400557.0...   \n",
       "5898   http://images.amazon.com/images/P/0553274295.0...   \n",
       "7732   http://images.amazon.com/images/P/0446365386.0...   \n",
       "12762  http://images.amazon.com/images/P/0618002235.0...   \n",
       "12763  http://images.amazon.com/images/P/0618002227.0...   \n",
       "15181  http://images.amazon.com/images/P/0836218051.0...   \n",
       "29729  http://images.amazon.com/images/P/006440188X.0...   \n",
       "31978  http://images.amazon.com/images/P/0684814994.0...   \n",
       "\n",
       "                                                    Urlm  \\\n",
       "388    http://images.amazon.com/images/P/0156528207.0...   \n",
       "3847   http://images.amazon.com/images/P/0064400557.0...   \n",
       "5898   http://images.amazon.com/images/P/0553274295.0...   \n",
       "7732   http://images.amazon.com/images/P/0446365386.0...   \n",
       "12762  http://images.amazon.com/images/P/0618002235.0...   \n",
       "12763  http://images.amazon.com/images/P/0618002227.0...   \n",
       "15181  http://images.amazon.com/images/P/0836218051.0...   \n",
       "29729  http://images.amazon.com/images/P/006440188X.0...   \n",
       "31978  http://images.amazon.com/images/P/0684814994.0...   \n",
       "\n",
       "                                                    Urll  \n",
       "388    http://images.amazon.com/images/P/0156528207.0...  \n",
       "3847   http://images.amazon.com/images/P/0064400557.0...  \n",
       "5898   http://images.amazon.com/images/P/0553274295.0...  \n",
       "7732   http://images.amazon.com/images/P/0446365386.0...  \n",
       "12762  http://images.amazon.com/images/P/0618002235.0...  \n",
       "12763  http://images.amazon.com/images/P/0618002227.0...  \n",
       "15181  http://images.amazon.com/images/P/0836218051.0...  \n",
       "29729  http://images.amazon.com/images/P/006440188X.0...  \n",
       "31978  http://images.amazon.com/images/P/0684814994.0...  "
      ]
     },
     "execution_count": 422,
     "metadata": {},
     "output_type": "execute_result"
    }
   ],
   "source": [
    "# select based on user model will provide the top list of books.\n",
    "\n",
    "def Recommendation_for_user(user_Id):\n",
    "    x=int(user_Id)\n",
    "    top_books=book_list[test.index_col==x].T\n",
    "    top_list=top_books.iloc[:,0].sort_values(ascending=False)[1:10]\n",
    "    x=top_list.index\n",
    "    LIST=book[book.ISBN.isin(x)]\n",
    "    return LIST   \n",
    "\n",
    "Recommendation_for_user('35857')\n"
   ]
  },
  {
   "cell_type": "code",
   "execution_count": 423,
   "metadata": {},
   "outputs": [
    {
     "data": {
      "text/plain": [
       "ISBN\n",
       "0836218051    9.000000\n",
       "0156528207    8.978723\n",
       "0618002219    8.972222\n",
       "0064400557    9.166667\n",
       "0553274295    8.592593\n",
       "0140143505    9.560000\n",
       "0618002235    9.708333\n",
       "0836218051    9.000000\n",
       "006440188X    9.157895\n",
       "Name: Rating, dtype: float64"
      ]
     },
     "execution_count": 423,
     "metadata": {},
     "output_type": "execute_result"
    }
   ],
   "source": [
    "ratings.groupby('ISBN')['Rating'].mean()[['0836218051','0156528207','0618002219','0064400557','0553274295','0140143505','0618002235','0836218051','006440188X']]\n"
   ]
  },
  {
   "cell_type": "code",
   "execution_count": 424,
   "metadata": {},
   "outputs": [
    {
     "data": {
      "text/plain": [
       "2785    The Hobbit: or There and Back Again\n",
       "Name: Title, dtype: object"
      ]
     },
     "execution_count": 424,
     "metadata": {},
     "output_type": "execute_result"
    }
   ],
   "source": [
    "Recommend_books('The Hobbit: or There and Back Again')"
   ]
  },
  {
   "cell_type": "code",
   "execution_count": 188,
   "metadata": {},
   "outputs": [
    {
     "data": {
      "text/plain": [
       "257    9.217497\n",
       "283    9.082469\n",
       "59     9.077356\n",
       "44     9.065194\n",
       "232    9.048313\n",
       "218    9.038334\n",
       "284    9.003752\n",
       "124    8.995690\n",
       "7      8.995378\n",
       "Name: 0060392452, dtype: float64"
      ]
     },
     "execution_count": 188,
     "metadata": {},
     "output_type": "execute_result"
    }
   ],
   "source": [
    "# select book based on user input of book it brings similar users\n",
    "\n",
    "book_list['0060392452'].sort_values(ascending=False)[1:10]"
   ]
  }
 ],
 "metadata": {
  "anaconda-cloud": {},
  "kernelspec": {
   "display_name": "Python 3",
   "language": "python",
   "name": "python3"
  },
  "language_info": {
   "codemirror_mode": {
    "name": "ipython",
    "version": 3
   },
   "file_extension": ".py",
   "mimetype": "text/x-python",
   "name": "python",
   "nbconvert_exporter": "python",
   "pygments_lexer": "ipython3",
   "version": "3.6.4"
  }
 },
 "nbformat": 4,
 "nbformat_minor": 1
}
